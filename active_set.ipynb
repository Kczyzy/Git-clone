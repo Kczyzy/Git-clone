{
 "cells": [
  {
   "cell_type": "code",
   "execution_count": 1,
   "id": "2a08138d-3784-42ff-9ed7-35b024900c57",
   "metadata": {},
   "outputs": [],
   "source": [
    "import numpy as np\n",
    "import matplotlib.pyplot as plt\n",
    "import matplotlib as mpl\n",
    "import matplotlib.patches as patches\n",
    "import jax.numpy as jnp # this is a thin wrapper to NumPy within JAX\n",
    "from jax import grad, hessian\n",
    "\n",
    "mpl.rcParams['lines.linewidth'] = 2\n",
    "mpl.rc('xtick', labelsize=18) \n",
    "mpl.rc('ytick', labelsize=18) \n",
    "mpl.rc('axes', labelsize=18) \n",
    "mpl.rc('font', size=18) \n",
    "plt.rcParams.update({\n",
    "    'text.usetex': True,\n",
    "    'font.family': 'serif',\n",
    "})"
   ]
  },
  {
   "cell_type": "markdown",
   "id": "fb5903f1-3b8f-4a76-ada9-f42dee6afe8e",
   "metadata": {},
   "source": [
    "# define objective function and constraints"
   ]
  },
  {
   "cell_type": "code",
   "execution_count": 2,
   "id": "392f372b-d833-471a-bde4-9de6627f5684",
   "metadata": {},
   "outputs": [],
   "source": [
    "f = lambda x: (3*x[...,0]**2 + x[...,1]**2 + 2*x[...,0]*x[...,1] + x[...,0] + 6*x[...,1]).squeeze()\n",
    "c_1 = lambda x: (2.*x[...,0] + 3*x[...,1] - 4.).squeeze()\n",
    "c_2 = lambda x: (x[...,0]).squeeze()\n",
    "c_3 = lambda x: (x[...,1]).squeeze()\n",
    "c = [c_1, c_2, c_3]\n",
    "d = np.array([-4., 0., 0.]) # RHS of constraint equations"
   ]
  },
  {
   "cell_type": "code",
   "execution_count": 44,
   "id": "dd5d7f25-3091-484d-94a2-1d78058e27c0",
   "metadata": {
    "tags": []
   },
   "outputs": [],
   "source": [
    "m = len(c)\n",
    "n = 2\n",
    "xk = np.array([[3., 2.]]) # starting point\n",
    "Bk = hessian(f)(xk).squeeze() # function hessian\n",
    "Ck = np.concatenate([grad(c[i])(xk) for i in range(m)]) # note (upper case) Ck has *gradients* of all constraints at xk\n",
    "ck = np.concatenate([[c[i](xk)] for i in range(m)]) # note (lower case) ck has *value* of all constraints at xk"
   ]
  },
  {
   "cell_type": "code",
   "execution_count": 45,
   "id": "5851b35c-9b9a-4c3c-8e1e-8af966c36188",
   "metadata": {
    "tags": []
   },
   "outputs": [],
   "source": [
    "def get_active_set(ck, xk):\n",
    "    Wk = []\n",
    "    # find which constraints are active\n",
    "    for i in range(m):\n",
    "        if np.abs(ck[i]) <= 1e-12:\n",
    "            Wk.append(i)\n",
    "    return Wk"
   ]
  },
  {
   "cell_type": "code",
   "execution_count": 5,
   "id": "ec12513b-c0b7-4783-b5d7-22e761040175",
   "metadata": {
    "tags": []
   },
   "outputs": [],
   "source": [
    "def construct_kkt_and_solve(xk, Bk, Ck, Wk, f, c):\n",
    "    n_active = len(Wk)\n",
    "    m    = len(c)\n",
    "    lk_I = np.zeros(m) # Lagrange multipliers for all inequality constraints\n",
    "    Z    = np.zeros([n_active, n_active])\n",
    "    \n",
    "    if n_active > 0:\n",
    "        L = np.block([[Bk, -Ck[Wk].T],\n",
    "                      [-Ck[Wk], Z]])\n",
    "    else:\n",
    "        L = Bk # no active constraints\n",
    "\n",
    "    y    = np.append(-grad(f)(xk).squeeze() + np.matmul(Ck[Wk].T, lk_I[Wk]), np.zeros(n_active) )\n",
    "    soln = np.linalg.solve(L, y)\n",
    "    pk   = soln[:n]\n",
    "\n",
    "    if n_active > 0:\n",
    "        lk_I[Wk] = soln[-n_active:]\n",
    "    \n",
    "    return pk, lk_I"
   ]
  },
  {
   "cell_type": "code",
   "execution_count": 6,
   "id": "ee5e579b-6671-4a61-b46a-8b3434667766",
   "metadata": {
    "tags": []
   },
   "outputs": [],
   "source": [
    "def update_lagrange_multipliers(lk_I, Wk):\n",
    "    m    = lk_I.shape[0]\n",
    "    mask = np.full(m, True, dtype=bool)\n",
    "    mask[Wk]  = False # identify inactive constraints\n",
    "    I_k       = np.arange(m)[mask]\n",
    "    lk_I[I_k] = np.zeros_like(I_k)\n",
    "    return lk_I"
   ]
  },
  {
   "cell_type": "code",
   "execution_count": 38,
   "id": "331bec1c-1958-4250-8f6b-e4cba3e00b20",
   "metadata": {
    "tags": []
   },
   "outputs": [],
   "source": [
    "def get_blocking_constraints(Ck, pk):\n",
    "    m = Ck.shape[0]\n",
    "    cTp = []\n",
    "    for i in range(m):\n",
    "        cTp.append(np.dot(Ck[i], pk))\n",
    "    blocking_ind = np.arange(m)[np.array(cTp) < -1e-12]\n",
    "    # print(f'dot(c,p) {cTp} blocking constraints {blocking_ind}, {blocking_ind.shape}')\n",
    "    return blocking_ind"
   ]
  },
  {
   "cell_type": "code",
   "execution_count": 35,
   "id": "2eaa62ce-7f49-4731-aa0c-ab5308c1bc88",
   "metadata": {
    "tags": []
   },
   "outputs": [],
   "source": [
    "def get_steplengths(blocking_ind, Ck, d, pk):\n",
    "    m = Ck.shape[0]\n",
    "    a = np.zeros(m)\n",
    "    for i in blocking_ind:\n",
    "        a[i] = -(np.dot(Ck[i],xk.squeeze()) + d[i]) / np.dot(Ck[i], pk) \n",
    "        # print(f'alpha_{i+1} = {a[i]}')\n",
    "    ak = min(1, min(a[blocking_ind]))\n",
    "    return ak"
   ]
  },
  {
   "cell_type": "code",
   "execution_count": 41,
   "id": "db267ffe-cccd-4d37-9423-72dd3718411f",
   "metadata": {
    "tags": []
   },
   "outputs": [],
   "source": [
    "def remove_negative_lambda_constraints(lk_I, Wk):\n",
    "    removed = False\n",
    "    m = lk_I.shape[0]\n",
    "    if any(lk_I < 0):\n",
    "        print('negative Lagrange parameters, remove one of them from working set')\n",
    "        negative_l_inds = np.arange(m)[lk_I < 0]\n",
    "        if len(lk_I[negative_l_inds]) == 0:\n",
    "            print('all Lagrange parameters are nonnegative')\n",
    "        elif len(lk_I[negative_l_inds]) == 1:\n",
    "            Wk.remove(negative_l_inds)\n",
    "            removed = True\n",
    "        else:\n",
    "            Wk.remove(lk_I.argmin())\n",
    "            removed = True\n",
    "    else:\n",
    "        print(f'Lagrange multipliers are all nonnegative!!')\n",
    "    return Wk, removed"
   ]
  },
  {
   "cell_type": "code",
   "execution_count": 47,
   "id": "de5812eb-ed29-4fee-afbc-a048c737b129",
   "metadata": {
    "tags": []
   },
   "outputs": [
    {
     "name": "stdout",
     "output_type": "stream",
     "text": [
      "iter 1, Working set [], pk [-1.75 -6.25], step length 0.32, new point [[2.44 0.  ]], Lagrange multipliers [0. 0. 0.]\n",
      "iter 2, Working set [2], pk [-2.60666672e+00  6.66133815e-16], step length 0.16879795025881222, new point [[2.00000000e+00 1.12442023e-16]], Lagrange multipliers [0.         0.         5.66666667]\n",
      "pk=0, potential convergence.\n",
      "negative Lagrange parameters, remove one of them from working set\n",
      "iter 3, Working set [0], pk [-1.5  1. ], step length 1, new point [[0.5 1. ]], Lagrange multipliers [3. 0. 0.]\n",
      "pk=0, potential convergence.\n",
      "Lagrange multipliers are all nonnegative!!\n",
      "iter 4, Working set [0], pk [-2.06184276e-16  1.74463618e-16], step length 1, new point [[0.5 1. ]], Lagrange multipliers [3. 0. 0.]\n",
      "-------------------------------\n",
      "constrained minimizer [[0.5 1. ]], constrained minimum 9.249999999999998, Lagrange multipliers [3. 0. 0.]\n"
     ]
    }
   ],
   "source": [
    "xk    = np.array([[3., 2.]]) # starting point\n",
    "pkinf = 10\n",
    "eps   = 1e-12\n",
    "m     = len(c)\n",
    "lk_I    = np.zeros(m)\n",
    "removed = False\n",
    "k     = 0\n",
    "\n",
    "while pkinf > eps or any(lk_I < 0):\n",
    "\n",
    "    Bk = hessian(f)(xk).squeeze() # function hessian\n",
    "    Ck = np.concatenate([grad(c[i])(xk) for i in range(m)]) # gradients of each constraint\n",
    "    ck = np.concatenate([[c[i](xk)] for i in range(m)]) # value of each constraint\n",
    "    if ~removed:\n",
    "        Wk          = get_active_set(ck, xk) \n",
    "    pk, lk_I    = construct_kkt_and_solve(xk, Bk, Ck, Wk, f, c)\n",
    "    pkinf = np.linalg.norm(pk, np.inf)\n",
    "    # print(f'Working set {Wk}, pk {pk}, Lagrange multipliers {lk_I}')\n",
    "    \n",
    "    if pkinf < eps:\n",
    "        print(f'pk=0, potential convergence.')\n",
    "        # check for Lagrange parameter sign\n",
    "        Wk, removed = remove_negative_lambda_constraints(lk_I, Wk)\n",
    "        pk, lk_I    = construct_kkt_and_solve(xk, Bk, Ck, Wk, f, c)\n",
    "        lk_I        = update_lagrange_multipliers(lk_I, Wk)\n",
    "        pkinf = np.linalg.norm(pk, np.inf)\n",
    "\n",
    "    blocking_ind= get_blocking_constraints(Ck, pk)\n",
    "    if blocking_ind.shape[0] > 0:\n",
    "        ak = get_steplengths(blocking_ind, Ck, d, pk)\n",
    "        # print(f'chosen step length alpha_k {ak}')\n",
    "        xk = xk + ak * pk\n",
    "        # print(f'pk {pk}, new point xk {xk}')\n",
    "        removed = False\n",
    "    k += 1\n",
    "    \n",
    "    print(f'iter {k}, Working set {Wk}, pk {pk}, step length {ak}, new point {xk}, Lagrange multipliers {lk_I}')\n",
    "\n",
    "print('-------------------------------')\n",
    "print(f'constrained minimizer {xk}, constrained minimum {f(xk)}, Lagrange multipliers {lk_I}')"
   ]
  },
  {
   "cell_type": "code",
   "execution_count": null,
   "id": "961968a0-8012-4ff1-8a38-d2c01e8c4694",
   "metadata": {},
   "outputs": [],
   "source": []
  }
 ],
 "metadata": {
  "kernelspec": {
   "display_name": "Python 3",
   "language": "python",
   "name": "python3"
  },
  "language_info": {
   "codemirror_mode": {
    "name": "ipython",
    "version": 3
   },
   "file_extension": ".py",
   "mimetype": "text/x-python",
   "name": "python",
   "nbconvert_exporter": "python",
   "pygments_lexer": "ipython3",
   "version": "3.8.8"
  }
 },
 "nbformat": 4,
 "nbformat_minor": 5
}
